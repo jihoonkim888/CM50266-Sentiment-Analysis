{
 "cells": [
  {
   "cell_type": "code",
   "execution_count": 1,
   "metadata": {},
   "outputs": [
    {
     "name": "stderr",
     "output_type": "stream",
     "text": [
      "[nltk_data] Downloading package stopwords to\n",
      "[nltk_data]     /Users/jihoonkim/nltk_data...\n",
      "[nltk_data]   Package stopwords is already up-to-date!\n",
      "[nltk_data] Downloading package punkt to /Users/jihoonkim/nltk_data...\n",
      "[nltk_data]   Package punkt is already up-to-date!\n"
     ]
    },
    {
     "data": {
      "text/plain": [
       "True"
      ]
     },
     "execution_count": 1,
     "metadata": {},
     "output_type": "execute_result"
    }
   ],
   "source": [
    "import numpy as np\n",
    "import pandas as pd\n",
    "\n",
    "from sklearn.model_selection import train_test_split\n",
    "from sklearn.naive_bayes import MultinomialNB\n",
    "\n",
    "import nltk\n",
    "from nltk.corpus import stopwords\n",
    "from nltk.stem import PorterStemmer \n",
    "from nltk.tokenize import word_tokenize\n",
    "from sklearn.feature_extraction.text import CountVectorizer\n",
    "\n",
    "nltk.download('stopwords')\n",
    "nltk.download('punkt')"
   ]
  },
  {
   "cell_type": "code",
   "execution_count": 2,
   "metadata": {},
   "outputs": [],
   "source": [
    "filename = 'car_reviews.csv'\n",
    "df = pd.read_csv(filename)"
   ]
  },
  {
   "cell_type": "code",
   "execution_count": 3,
   "metadata": {},
   "outputs": [],
   "source": [
    "df_old = df.copy()"
   ]
  },
  {
   "cell_type": "markdown",
   "metadata": {},
   "source": [
    "# Task 1"
   ]
  },
  {
   "cell_type": "code",
   "execution_count": 4,
   "metadata": {},
   "outputs": [],
   "source": [
    "# pre-processing data...\n",
    "\n",
    "# converting 'Pos' and 'Neg' labels to 1 and 0\n",
    "label_dic = {'Neg': 0, 'Pos': 1}\n",
    "df['Sentiment'] = df['Sentiment'].map(label_dic)\n",
    "\n",
    "# print('shape of the dataframe: {}'.format(df.shape))\n",
    "# print('Data types:\\n{}'.format(df.dtypes))\n",
    "\n",
    "\n",
    "# change all the sentences to lower-case (case-insensitive)\n",
    "df['Review'] = df['Review'].str.lower()\n",
    "\n",
    "# tokenise the sentence - sentence to list of words\n",
    "# Identifying and excluding all punctuation and words that are not likely to affect sentiment - NLTK stopwords.\n",
    "# word stemming using NLTK.stem.PorterStemmer() - convert the words to root words\n",
    "\n",
    "# tokenize the reviews\n",
    "df['Review'] = df['Review'].map(lambda x: word_tokenize(x))\n",
    "\n",
    "# sentence = [ps.stem(w) for w in words if not w in stopwords]\n",
    "\n",
    "\n"
   ]
  },
  {
   "cell_type": "code",
   "execution_count": 5,
   "metadata": {},
   "outputs": [],
   "source": [
    "# func for removing stopwords\n",
    "def remove_stopwords(lst):\n",
    "    stop_words = set(stopwords.words('english'))\n",
    "    return [i for i in lst if i not in stop_words]"
   ]
  },
  {
   "cell_type": "code",
   "execution_count": 6,
   "metadata": {},
   "outputs": [],
   "source": [
    "# removing stopwords\n",
    "df['Review'] = df['Review'].map(lambda x: remove_stopwords(x))"
   ]
  },
  {
   "cell_type": "code",
   "execution_count": 7,
   "metadata": {},
   "outputs": [
    {
     "data": {
      "text/html": [
       "<div>\n",
       "<style scoped>\n",
       "    .dataframe tbody tr th:only-of-type {\n",
       "        vertical-align: middle;\n",
       "    }\n",
       "\n",
       "    .dataframe tbody tr th {\n",
       "        vertical-align: top;\n",
       "    }\n",
       "\n",
       "    .dataframe thead th {\n",
       "        text-align: right;\n",
       "    }\n",
       "</style>\n",
       "<table border=\"1\" class=\"dataframe\">\n",
       "  <thead>\n",
       "    <tr style=\"text-align: right;\">\n",
       "      <th></th>\n",
       "      <th>Sentiment</th>\n",
       "      <th>Review</th>\n",
       "    </tr>\n",
       "  </thead>\n",
       "  <tbody>\n",
       "    <tr>\n",
       "      <th>0</th>\n",
       "      <td>0</td>\n",
       "      <td>[1992, bought, new, taurus, really, loved, 199...</td>\n",
       "    </tr>\n",
       "    <tr>\n",
       "      <th>1</th>\n",
       "      <td>0</td>\n",
       "      <td>[last, business, trip, drove, san, francisco, ...</td>\n",
       "    </tr>\n",
       "    <tr>\n",
       "      <th>2</th>\n",
       "      <td>0</td>\n",
       "      <td>[husband, purchased, 1990, ford, f250, nothing...</td>\n",
       "    </tr>\n",
       "    <tr>\n",
       "      <th>3</th>\n",
       "      <td>0</td>\n",
       "      <td>[feel, thorough, opinion, truck, compared, pos...</td>\n",
       "    </tr>\n",
       "    <tr>\n",
       "      <th>4</th>\n",
       "      <td>0</td>\n",
       "      <td>[mother, 3, still, carseats, logical, thing, t...</td>\n",
       "    </tr>\n",
       "    <tr>\n",
       "      <th>...</th>\n",
       "      <td>...</td>\n",
       "      <td>...</td>\n",
       "    </tr>\n",
       "    <tr>\n",
       "      <th>1377</th>\n",
       "      <td>1</td>\n",
       "      <td>[june, bought, sony, limited, edition, focus, ...</td>\n",
       "    </tr>\n",
       "    <tr>\n",
       "      <th>1378</th>\n",
       "      <td>1</td>\n",
       "      <td>[140, 000, miles, decided, replace, wifes, 199...</td>\n",
       "    </tr>\n",
       "    <tr>\n",
       "      <th>1379</th>\n",
       "      <td>1</td>\n",
       "      <td>[ford, focus, great, little, record, setting, ...</td>\n",
       "    </tr>\n",
       "    <tr>\n",
       "      <th>1380</th>\n",
       "      <td>1</td>\n",
       "      <td>[needed, new, car, hyundai, excel, 91, decided...</td>\n",
       "    </tr>\n",
       "    <tr>\n",
       "      <th>1381</th>\n",
       "      <td>1</td>\n",
       "      <td>[2000, ford, focus, se, 4, door, sedan, spacio...</td>\n",
       "    </tr>\n",
       "  </tbody>\n",
       "</table>\n",
       "<p>1382 rows × 2 columns</p>\n",
       "</div>"
      ],
      "text/plain": [
       "      Sentiment                                             Review\n",
       "0             0  [1992, bought, new, taurus, really, loved, 199...\n",
       "1             0  [last, business, trip, drove, san, francisco, ...\n",
       "2             0  [husband, purchased, 1990, ford, f250, nothing...\n",
       "3             0  [feel, thorough, opinion, truck, compared, pos...\n",
       "4             0  [mother, 3, still, carseats, logical, thing, t...\n",
       "...         ...                                                ...\n",
       "1377          1  [june, bought, sony, limited, edition, focus, ...\n",
       "1378          1  [140, 000, miles, decided, replace, wifes, 199...\n",
       "1379          1  [ford, focus, great, little, record, setting, ...\n",
       "1380          1  [needed, new, car, hyundai, excel, 91, decided...\n",
       "1381          1  [2000, ford, focus, se, 4, door, sedan, spacio...\n",
       "\n",
       "[1382 rows x 2 columns]"
      ]
     },
     "execution_count": 7,
     "metadata": {},
     "output_type": "execute_result"
    }
   ],
   "source": [
    "df"
   ]
  },
  {
   "cell_type": "code",
   "execution_count": 8,
   "metadata": {},
   "outputs": [
    {
     "name": "stdout",
     "output_type": "stream",
     "text": [
      "The first line of review before excluding words and punctuation:\n",
      " In 1992 we bought a new Taurus and we really loved it  So in 1999 we decided to try a new Taurus  I did not care for the style of the newer version  but bought it anyway I do not like the new car half as much as i liked our other one  Thee dash is much to deep and takes up a lot of room  I do not find the seats as comfortable and the way the sides stick out further than the strip that should protect your card from denting It drives nice and has good pick up  But you can not see the hood at all from the driver seat and judging and parking is difficult  It has a very small gas tank I would not buy a Taurus if I had it to do over  I would rather have my 1992 back  I dont think the style is as nice as the the 1992  and it was a mistake to change the style  In less than a month we had a dead battery and a flat tire \n",
      "\n",
      "The first line of review after excluding words and punctuation:\n",
      "['1992', 'bought', 'new', 'taurus', 'really', 'loved', '1999', 'decided', 'try', 'new', 'taurus', 'care', 'style', 'newer', 'version', 'bought', 'anyway', 'like', 'new', 'car', 'half', 'much', 'liked', 'one', 'thee', 'dash', 'much', 'deep', 'takes', 'lot', 'room', 'find', 'seats', 'comfortable', 'way', 'sides', 'stick', 'strip', 'protect', 'card', 'denting', 'drives', 'nice', 'good', 'pick', 'see', 'hood', 'driver', 'seat', 'judging', 'parking', 'difficult', 'small', 'gas', 'tank', 'would', 'buy', 'taurus', 'would', 'rather', '1992', 'back', 'dont', 'think', 'style', 'nice', '1992', 'mistake', 'change', 'style', 'less', 'month', 'dead', 'battery', 'flat', 'tire']\n"
     ]
    }
   ],
   "source": [
    "# Task 1A\n",
    "# demonstrate that words and punctuation, which are unlikely to affect sentiment\n",
    "# have been excluded from the sentiment classifier AND that the remaining words \n",
    "# are not being handled in a case sensitive way\n",
    "\n",
    "print('The first line of review before excluding words and punctuation:')\n",
    "print(df_old['Review'][0])\n",
    "print('\\nThe first line of review after excluding words and punctuation:')\n",
    "print(df['Review'][0])"
   ]
  },
  {
   "cell_type": "code",
   "execution_count": 9,
   "metadata": {},
   "outputs": [],
   "source": [
    "df_old = df.copy()"
   ]
  },
  {
   "cell_type": "code",
   "execution_count": 10,
   "metadata": {},
   "outputs": [],
   "source": [
    "# func for stemming\n",
    "def stemming(lst):\n",
    "    ps = PorterStemmer()\n",
    "    return [ps.stem(word) for word in lst]"
   ]
  },
  {
   "cell_type": "code",
   "execution_count": 11,
   "metadata": {},
   "outputs": [],
   "source": [
    "# stemming words\n",
    "df['Review'] = df['Review'].map(lambda x: stemming(x))"
   ]
  },
  {
   "cell_type": "code",
   "execution_count": 12,
   "metadata": {},
   "outputs": [
    {
     "data": {
      "text/html": [
       "<div>\n",
       "<style scoped>\n",
       "    .dataframe tbody tr th:only-of-type {\n",
       "        vertical-align: middle;\n",
       "    }\n",
       "\n",
       "    .dataframe tbody tr th {\n",
       "        vertical-align: top;\n",
       "    }\n",
       "\n",
       "    .dataframe thead th {\n",
       "        text-align: right;\n",
       "    }\n",
       "</style>\n",
       "<table border=\"1\" class=\"dataframe\">\n",
       "  <thead>\n",
       "    <tr style=\"text-align: right;\">\n",
       "      <th></th>\n",
       "      <th>Sentiment</th>\n",
       "      <th>Review</th>\n",
       "    </tr>\n",
       "  </thead>\n",
       "  <tbody>\n",
       "    <tr>\n",
       "      <th>0</th>\n",
       "      <td>0</td>\n",
       "      <td>[1992, bought, new, tauru, realli, love, 1999,...</td>\n",
       "    </tr>\n",
       "    <tr>\n",
       "      <th>1</th>\n",
       "      <td>0</td>\n",
       "      <td>[last, busi, trip, drove, san, francisco, went...</td>\n",
       "    </tr>\n",
       "    <tr>\n",
       "      <th>2</th>\n",
       "      <td>0</td>\n",
       "      <td>[husband, purchas, 1990, ford, f250, noth, pro...</td>\n",
       "    </tr>\n",
       "    <tr>\n",
       "      <th>3</th>\n",
       "      <td>0</td>\n",
       "      <td>[feel, thorough, opinion, truck, compar, post,...</td>\n",
       "    </tr>\n",
       "    <tr>\n",
       "      <th>4</th>\n",
       "      <td>0</td>\n",
       "      <td>[mother, 3, still, carseat, logic, thing, trad...</td>\n",
       "    </tr>\n",
       "    <tr>\n",
       "      <th>...</th>\n",
       "      <td>...</td>\n",
       "      <td>...</td>\n",
       "    </tr>\n",
       "    <tr>\n",
       "      <th>1377</th>\n",
       "      <td>1</td>\n",
       "      <td>[june, bought, soni, limit, edit, focu, se, 4,...</td>\n",
       "    </tr>\n",
       "    <tr>\n",
       "      <th>1378</th>\n",
       "      <td>1</td>\n",
       "      <td>[140, 000, mile, decid, replac, wife, 1990, to...</td>\n",
       "    </tr>\n",
       "    <tr>\n",
       "      <th>1379</th>\n",
       "      <td>1</td>\n",
       "      <td>[ford, focu, great, littl, record, set, car, f...</td>\n",
       "    </tr>\n",
       "    <tr>\n",
       "      <th>1380</th>\n",
       "      <td>1</td>\n",
       "      <td>[need, new, car, hyundai, excel, 91, decid, sh...</td>\n",
       "    </tr>\n",
       "    <tr>\n",
       "      <th>1381</th>\n",
       "      <td>1</td>\n",
       "      <td>[2000, ford, focu, se, 4, door, sedan, spaciou...</td>\n",
       "    </tr>\n",
       "  </tbody>\n",
       "</table>\n",
       "<p>1382 rows × 2 columns</p>\n",
       "</div>"
      ],
      "text/plain": [
       "      Sentiment                                             Review\n",
       "0             0  [1992, bought, new, tauru, realli, love, 1999,...\n",
       "1             0  [last, busi, trip, drove, san, francisco, went...\n",
       "2             0  [husband, purchas, 1990, ford, f250, noth, pro...\n",
       "3             0  [feel, thorough, opinion, truck, compar, post,...\n",
       "4             0  [mother, 3, still, carseat, logic, thing, trad...\n",
       "...         ...                                                ...\n",
       "1377          1  [june, bought, soni, limit, edit, focu, se, 4,...\n",
       "1378          1  [140, 000, mile, decid, replac, wife, 1990, to...\n",
       "1379          1  [ford, focu, great, littl, record, set, car, f...\n",
       "1380          1  [need, new, car, hyundai, excel, 91, decid, sh...\n",
       "1381          1  [2000, ford, focu, se, 4, door, sedan, spaciou...\n",
       "\n",
       "[1382 rows x 2 columns]"
      ]
     },
     "execution_count": 12,
     "metadata": {},
     "output_type": "execute_result"
    }
   ],
   "source": [
    "df"
   ]
  },
  {
   "cell_type": "code",
   "execution_count": 13,
   "metadata": {},
   "outputs": [
    {
     "data": {
      "text/html": [
       "<div>\n",
       "<style scoped>\n",
       "    .dataframe tbody tr th:only-of-type {\n",
       "        vertical-align: middle;\n",
       "    }\n",
       "\n",
       "    .dataframe tbody tr th {\n",
       "        vertical-align: top;\n",
       "    }\n",
       "\n",
       "    .dataframe thead th {\n",
       "        text-align: right;\n",
       "    }\n",
       "</style>\n",
       "<table border=\"1\" class=\"dataframe\">\n",
       "  <thead>\n",
       "    <tr style=\"text-align: right;\">\n",
       "      <th></th>\n",
       "      <th>Sentiment</th>\n",
       "      <th>Review</th>\n",
       "    </tr>\n",
       "  </thead>\n",
       "  <tbody>\n",
       "    <tr>\n",
       "      <th>0</th>\n",
       "      <td>0</td>\n",
       "      <td>[1992, bought, new, taurus, really, loved, 199...</td>\n",
       "    </tr>\n",
       "    <tr>\n",
       "      <th>1</th>\n",
       "      <td>0</td>\n",
       "      <td>[last, business, trip, drove, san, francisco, ...</td>\n",
       "    </tr>\n",
       "    <tr>\n",
       "      <th>2</th>\n",
       "      <td>0</td>\n",
       "      <td>[husband, purchased, 1990, ford, f250, nothing...</td>\n",
       "    </tr>\n",
       "    <tr>\n",
       "      <th>3</th>\n",
       "      <td>0</td>\n",
       "      <td>[feel, thorough, opinion, truck, compared, pos...</td>\n",
       "    </tr>\n",
       "    <tr>\n",
       "      <th>4</th>\n",
       "      <td>0</td>\n",
       "      <td>[mother, 3, still, carseats, logical, thing, t...</td>\n",
       "    </tr>\n",
       "    <tr>\n",
       "      <th>...</th>\n",
       "      <td>...</td>\n",
       "      <td>...</td>\n",
       "    </tr>\n",
       "    <tr>\n",
       "      <th>1377</th>\n",
       "      <td>1</td>\n",
       "      <td>[june, bought, sony, limited, edition, focus, ...</td>\n",
       "    </tr>\n",
       "    <tr>\n",
       "      <th>1378</th>\n",
       "      <td>1</td>\n",
       "      <td>[140, 000, miles, decided, replace, wifes, 199...</td>\n",
       "    </tr>\n",
       "    <tr>\n",
       "      <th>1379</th>\n",
       "      <td>1</td>\n",
       "      <td>[ford, focus, great, little, record, setting, ...</td>\n",
       "    </tr>\n",
       "    <tr>\n",
       "      <th>1380</th>\n",
       "      <td>1</td>\n",
       "      <td>[needed, new, car, hyundai, excel, 91, decided...</td>\n",
       "    </tr>\n",
       "    <tr>\n",
       "      <th>1381</th>\n",
       "      <td>1</td>\n",
       "      <td>[2000, ford, focus, se, 4, door, sedan, spacio...</td>\n",
       "    </tr>\n",
       "  </tbody>\n",
       "</table>\n",
       "<p>1382 rows × 2 columns</p>\n",
       "</div>"
      ],
      "text/plain": [
       "      Sentiment                                             Review\n",
       "0             0  [1992, bought, new, taurus, really, loved, 199...\n",
       "1             0  [last, business, trip, drove, san, francisco, ...\n",
       "2             0  [husband, purchased, 1990, ford, f250, nothing...\n",
       "3             0  [feel, thorough, opinion, truck, compared, pos...\n",
       "4             0  [mother, 3, still, carseats, logical, thing, t...\n",
       "...         ...                                                ...\n",
       "1377          1  [june, bought, sony, limited, edition, focus, ...\n",
       "1378          1  [140, 000, miles, decided, replace, wifes, 199...\n",
       "1379          1  [ford, focus, great, little, record, setting, ...\n",
       "1380          1  [needed, new, car, hyundai, excel, 91, decided...\n",
       "1381          1  [2000, ford, focus, se, 4, door, sedan, spacio...\n",
       "\n",
       "[1382 rows x 2 columns]"
      ]
     },
     "execution_count": 13,
     "metadata": {},
     "output_type": "execute_result"
    }
   ],
   "source": [
    "df_old"
   ]
  },
  {
   "cell_type": "code",
   "execution_count": 14,
   "metadata": {},
   "outputs": [
    {
     "name": "stdout",
     "output_type": "stream",
     "text": [
      "Stem word: decid, leaf words: ['decide' 'decided' 'decides' 'deciding']\n",
      "Stem word: love, leaf words: ['love' 'loved' 'lovely' 'loves' 'loving']\n",
      "Stem word: feel, leaf words: ['feel' 'feeling' 'feelings' 'feels']\n"
     ]
    }
   ],
   "source": [
    "# Task 1B\n",
    "# demonstrate that words with the same stem have been appropriately recognised and treated as variations of the stem\n",
    "# should be demonstrated for at least 3 different stems...\n",
    "\n",
    "stem_words = ['decid', 'love', 'feel']\n",
    "\n",
    "# find these stem words in the converted dataframe...\n",
    "for word in stem_words:\n",
    "    leaves = []\n",
    "    for i, item in enumerate(df['Review']):\n",
    "        if word in item:\n",
    "            # get the indices of stem word\n",
    "            indices = item.index(word)\n",
    "            # collect the leaf words in a list\n",
    "            leaves.append(df_old['Review'][i][indices])\n",
    "    \n",
    "    unique = np.unique(leaves)\n",
    "    print('Stem word: {}, leaf words: {}'.format(word, unique))\n"
   ]
  },
  {
   "cell_type": "code",
   "execution_count": 15,
   "metadata": {},
   "outputs": [],
   "source": [
    "# Task 1C\n",
    "# create a bag of words model (vector)\n",
    "# using CountVectorizer, create document-term matrix (DTM)\n",
    "# vocabulary of all words in columns, reviews in rows\n",
    "# 0 if word does not exist, 1 if does\n",
    "vector = CountVectorizer()\n",
    "\n",
    "df['Review'] = df['Review'].map(lambda x: ' '.join(x))"
   ]
  },
  {
   "cell_type": "code",
   "execution_count": 16,
   "metadata": {},
   "outputs": [
    {
     "name": "stdout",
     "output_type": "stream",
     "text": [
      "[[0 0 0 ... 0 0 0]\n",
      " [0 0 0 ... 0 0 0]\n",
      " [0 2 0 ... 0 0 0]\n",
      " ...\n",
      " [0 1 0 ... 0 2 0]\n",
      " [0 0 0 ... 0 0 0]\n",
      " [0 0 0 ... 0 0 0]]\n"
     ]
    }
   ],
   "source": [
    "reviews_in_list = [i for i in df['Review']]\n",
    "dtm = vector.fit_transform(reviews_in_list).toarray()\n",
    "print(dtm)"
   ]
  },
  {
   "cell_type": "code",
   "execution_count": 48,
   "metadata": {},
   "outputs": [
    {
     "name": "stdout",
     "output_type": "stream",
     "text": [
      "train size: 1105, test size: 277, train %: 79.96%\n"
     ]
    }
   ],
   "source": [
    "# split data into train and test set\n",
    "y_data = df['Sentiment']\n",
    "x_data = dtm\n",
    "\n",
    "x_train, x_test, y_train, y_test = train_test_split(x_data, y_data, test_size=0.2, random_state=0, shuffle=True)\n",
    "\n",
    "\n",
    "train_shape = len(x_train)\n",
    "test_shape = len(x_test)\n",
    "train_percentage = train_shape/(train_shape+test_shape)*100\n",
    "\n",
    "print('train size: {}, test size: {}, train %: {}%'.format(train_shape, test_shape, round(train_percentage, 2)))"
   ]
  },
  {
   "cell_type": "code",
   "execution_count": 53,
   "metadata": {},
   "outputs": [
    {
     "name": "stdout",
     "output_type": "stream",
     "text": [
      "Number of negative reviews in y_test: 150\n",
      "Number of positive reviews in y_test: 127\n"
     ]
    }
   ],
   "source": [
    "print('Number of negative reviews in y_test:', len(y_test[y_test==0]))\n",
    "print('Number of positive reviews in y_test:', len(y_test[y_test==1]))"
   ]
  },
  {
   "cell_type": "code",
   "execution_count": 50,
   "metadata": {},
   "outputs": [
    {
     "data": {
      "text/plain": [
       "MultinomialNB()"
      ]
     },
     "execution_count": 50,
     "metadata": {},
     "output_type": "execute_result"
    }
   ],
   "source": [
    "# implement a Naïve Bayes classifier\n",
    "clf = MultinomialNB()\n",
    "\n",
    "# train the model\n",
    "clf.fit(x_train, y_train)"
   ]
  },
  {
   "cell_type": "code",
   "execution_count": 51,
   "metadata": {},
   "outputs": [
    {
     "name": "stdout",
     "output_type": "stream",
     "text": [
      "Classifier accuracy for train set: 93.0%\n"
     ]
    }
   ],
   "source": [
    "# score with train set...\n",
    "train_acc = clf.score(x_train, y_train)\n",
    "print('Classifier accuracy for train set: {}%'.format(round(train_acc*100), 2))"
   ]
  },
  {
   "cell_type": "code",
   "execution_count": 52,
   "metadata": {},
   "outputs": [
    {
     "name": "stdout",
     "output_type": "stream",
     "text": [
      "Classifier accuracy for test set: 74.0%\n"
     ]
    }
   ],
   "source": [
    "# score with test set...\n",
    "test_acc = clf.score(x_test, y_test)\n",
    "print('Classifier accuracy for test set: {}%'.format(round(test_acc*100), 2))"
   ]
  },
  {
   "cell_type": "code",
   "execution_count": 22,
   "metadata": {},
   "outputs": [
    {
     "name": "stdout",
     "output_type": "stream",
     "text": [
      "[[104  46]\n",
      " [ 26 101]]\n"
     ]
    }
   ],
   "source": [
    "# report the classifier’s performance using a confusion matrix\n",
    "from sklearn.metrics import confusion_matrix\n",
    "y_test_pred = clf.predict(x_test)\n",
    "conf_mat = confusion_matrix(y_test, y_test_pred)\n",
    "print(conf_mat)"
   ]
  },
  {
   "cell_type": "code",
   "execution_count": 23,
   "metadata": {},
   "outputs": [
    {
     "name": "stdout",
     "output_type": "stream",
     "text": [
      "Confusion matrix\n",
      "[[104  46]\n",
      " [ 26 101]]\n",
      "Normalised confusion matrix\n",
      "[[0.69333333 0.30666667]\n",
      " [0.20472441 0.79527559]]\n"
     ]
    },
    {
     "data": {
      "image/png": "[encoded data removed]",
      "text/plain": [
       "<Figure size 432x288 with 2 Axes>"
      ]
     },
     "metadata": {
      "needs_background": "light"
     },
     "output_type": "display_data"
    },
    {
     "data": {
      "image/png": "[encoded data removed]",
      "text/plain": [
       "<Figure size 432x288 with 2 Axes>"
      ]
     },
     "metadata": {
      "needs_background": "light"
     },
     "output_type": "display_data"
    }
   ],
   "source": [
    "# Plot non-normalized confusion matrix\n",
    "import matplotlib.pyplot as plt\n",
    "from sklearn.metrics import plot_confusion_matrix\n",
    "\n",
    "\n",
    "matrix_visualisation = [(\"Confusion matrix\", None),\n",
    "                  (\"Normalised confusion matrix\", 'true')]\n",
    "for title, normalize in matrix_visualisation:\n",
    "    disp = plot_confusion_matrix(clf, x_test, y_test,\n",
    "                                 display_labels=['Negative', 'Positive'],\n",
    "                                 cmap=plt.cm.Reds,\n",
    "                                 normalize=normalize)\n",
    "    disp.ax_.set_title(title)\n",
    "\n",
    "    print(title)\n",
    "    print(disp.confusion_matrix)\n",
    "\n",
    "plt.show()"
   ]
  },
  {
   "cell_type": "markdown",
   "metadata": {},
   "source": [
    "# Task 2"
   ]
  },
  {
   "cell_type": "markdown",
   "metadata": {},
   "source": [
    "## How to improve:\n",
    "Apply modifications to the Naïve Bayes implementation: \n",
    "1. Use Term Frequency-Inverse Document Frequency (TF-IDF) instead of document-term matrix (DTM). TF-IDF is is a numerical statistic that is intended to reflect how important a word is to a document in a collection or corpus [1]. The tf–idf value increases proportionally to the number of times a word appears in the document and is offset by the number of documents in the corpus that contain the word, which helps to adjust for the fact that some words appear more frequently in general. It is expected that the accuracy of the Naive-Bayes classifier will improve by using TF-IDF instead of DTM as DTM simply counts the number of words occurred in sentences whereas TF-IDF also considers how many times the words have occurred in a whole document.\n",
    "2. Use n-gram bag of words (multi-word phrases) - the bag of words created was made by separating the words in a sentence. This is a simple and effective approach but it is not effective to classify a multi-word phrase e.g. \"fun\" (single-word) and \"not fun\" (multi-word) have completely different meanings. By also considering the multi-word phrases it is expected to improve the accuracy of the classifier further.\n",
    "\n",
    "\n",
    "[1] Rajaraman, A.; Ullman, J.D. (2011). \"Data Mining\" (PDF). Mining of Massive Datasets. pp. 1–17. doi:10.1017/CBO9781139058452.002. ISBN 978-1-139-05845-2."
   ]
  },
  {
   "cell_type": "code",
   "execution_count": 24,
   "metadata": {},
   "outputs": [
    {
     "name": "stdout",
     "output_type": "stream",
     "text": [
      "[[0.         0.         0.         ... 0.         0.         0.        ]\n",
      " [0.         0.         0.         ... 0.         0.         0.        ]\n",
      " [0.         0.0633887  0.         ... 0.         0.         0.        ]\n",
      " ...\n",
      " [0.         0.03362897 0.         ... 0.         0.16416374 0.        ]\n",
      " [0.         0.         0.         ... 0.         0.         0.        ]\n",
      " [0.         0.         0.         ... 0.         0.         0.        ]]\n"
     ]
    }
   ],
   "source": [
    "# creating TF-IDF vector using TfidfVectorizer of sklearn\n",
    "\n",
    "from sklearn.feature_extraction.text import TfidfVectorizer\n",
    "\n",
    "tf_idf = TfidfVectorizer().fit_transform(reviews_in_list).toarray()\n",
    "print(tf_idf)"
   ]
  },
  {
   "cell_type": "code",
   "execution_count": 25,
   "metadata": {},
   "outputs": [
    {
     "name": "stdout",
     "output_type": "stream",
     "text": [
      "train size: 1105, test size: 277, train %: 79.96%\n"
     ]
    }
   ],
   "source": [
    "# split data into train and test set for tf_idf\n",
    "y_data = df['Sentiment']\n",
    "x_data = tf_idf\n",
    "\n",
    "x_train, x_test, y_train, y_test = train_test_split(x_data, y_data, test_size=0.2, random_state=0, shuffle=True)\n",
    "\n",
    "train_shape = len(x_train)\n",
    "test_shape = len(x_test)\n",
    "train_percentage = train_shape/(train_shape+test_shape)*100\n",
    "\n",
    "print('train size: {}, test size: {}, train %: {}%'.format(train_shape, test_shape, round(train_percentage, 2)))"
   ]
  },
  {
   "cell_type": "code",
   "execution_count": 26,
   "metadata": {},
   "outputs": [
    {
     "data": {
      "text/plain": [
       "MultinomialNB()"
      ]
     },
     "execution_count": 26,
     "metadata": {},
     "output_type": "execute_result"
    }
   ],
   "source": [
    "# implement a Naïve Bayes classifier\n",
    "clf2 = MultinomialNB()\n",
    "\n",
    "# train the model\n",
    "clf2.fit(x_train, y_train)"
   ]
  },
  {
   "cell_type": "code",
   "execution_count": 27,
   "metadata": {},
   "outputs": [
    {
     "name": "stdout",
     "output_type": "stream",
     "text": [
      "Classifier accuracy for train set with tf_idf: 88.0%\n"
     ]
    }
   ],
   "source": [
    "# score with train set...\n",
    "train_acc = clf2.score(x_train, y_train)\n",
    "print('Classifier accuracy for train set with tf-idf: {}%'.format(round(train_acc*100), 2))"
   ]
  },
  {
   "cell_type": "code",
   "execution_count": 28,
   "metadata": {},
   "outputs": [
    {
     "name": "stdout",
     "output_type": "stream",
     "text": [
      "Classifier accuracy for test set with tf_idf: 76.0%\n"
     ]
    }
   ],
   "source": [
    "# score with test set...\n",
    "test_acc = clf2.score(x_test, y_test)\n",
    "print('Classifier accuracy for test set with tf-idf: {}%'.format(round(test_acc*100), 2))"
   ]
  },
  {
   "cell_type": "code",
   "execution_count": 29,
   "metadata": {},
   "outputs": [
    {
     "name": "stdout",
     "output_type": "stream",
     "text": [
      "Confusion matrix\n",
      "[[ 95  55]\n",
      " [ 11 116]]\n",
      "Normalised confusion matrix\n",
      "[[0.63333333 0.36666667]\n",
      " [0.08661417 0.91338583]]\n"
     ]
    },
    {
     "data": {
      "image/png": "[encoded data removed]",
      "text/plain": [
       "<Figure size 432x288 with 2 Axes>"
      ]
     },
     "metadata": {
      "needs_background": "light"
     },
     "output_type": "display_data"
    },
    {
     "data": {
      "image/png": "[encoded data removed]",
      "text/plain": [
       "<Figure size 432x288 with 2 Axes>"
      ]
     },
     "metadata": {
      "needs_background": "light"
     },
     "output_type": "display_data"
    }
   ],
   "source": [
    "# Plot non-normalized confusion matrix\n",
    "\n",
    "matrix_visualisation = [(\"Confusion matrix\", None),\n",
    "                  (\"Normalised confusion matrix\", 'true')]\n",
    "for title, normalize in matrix_visualisation:\n",
    "    disp = plot_confusion_matrix(clf2, x_test, y_test,\n",
    "                                 display_labels=['Negative', 'Positive'],\n",
    "                                 cmap=plt.cm.Reds,\n",
    "                                 normalize=normalize)\n",
    "    disp.ax_.set_title(title)\n",
    "\n",
    "    print(title)\n",
    "    print(disp.confusion_matrix)\n",
    "\n",
    "plt.show()"
   ]
  },
  {
   "cell_type": "code",
   "execution_count": null,
   "metadata": {},
   "outputs": [],
   "source": [
    "# Apply n-gram bag of words"
   ]
  }
 ],
 "metadata": {
  "kernelspec": {
   "display_name": "Python 3",
   "language": "python",
   "name": "python3"
  },
  "language_info": {
   "codemirror_mode": {
    "name": "ipython",
    "version": 3
   },
   "file_extension": ".py",
   "mimetype": "text/x-python",
   "name": "python",
   "nbconvert_exporter": "python",
   "pygments_lexer": "ipython3",
   "version": "3.6.12"
  }
 },
 "nbformat": 4,
 "nbformat_minor": 4
}
